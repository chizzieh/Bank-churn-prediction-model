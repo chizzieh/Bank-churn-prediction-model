{
  "nbformat": 4,
  "nbformat_minor": 0,
  "metadata": {
    "colab": {
      "provenance": []
    },
    "kernelspec": {
      "name": "python3",
      "display_name": "Python 3"
    },
    "language_info": {
      "name": "python"
    }
  },
  "cells": [
    {
      "cell_type": "code",
      "execution_count": null,
      "metadata": {
        "colab": {
          "base_uri": "https://localhost:8080/"
        },
        "id": "FoB4PWoQWfAL",
        "outputId": "cf8b3387-f3bb-415b-d7d4-168d4f2333cc"
      },
      "outputs": [
        {
          "output_type": "stream",
          "name": "stdout",
          "text": [
            "Collecting faker\n",
            "  Downloading Faker-24.11.0-py3-none-any.whl (1.8 MB)\n",
            "\u001b[2K     \u001b[90m━━━━━━━━━━━━━━━━━━━━━━━━━━━━━━━━━━━━━━━━\u001b[0m \u001b[32m1.8/1.8 MB\u001b[0m \u001b[31m6.8 MB/s\u001b[0m eta \u001b[36m0:00:00\u001b[0m\n",
            "\u001b[?25hRequirement already satisfied: python-dateutil>=2.4 in /usr/local/lib/python3.10/dist-packages (from faker) (2.8.2)\n",
            "Requirement already satisfied: six>=1.5 in /usr/local/lib/python3.10/dist-packages (from python-dateutil>=2.4->faker) (1.16.0)\n",
            "Installing collected packages: faker\n",
            "Successfully installed faker-24.11.0\n"
          ]
        }
      ],
      "source": [
        "pip install faker"
      ]
    },
    {
      "cell_type": "code",
      "source": [
        "import pandas as pd\n",
        "import numpy as np\n",
        "import random\n",
        "from faker import Faker\n"
      ],
      "metadata": {
        "id": "oDsiq9fpWuhO"
      },
      "execution_count": null,
      "outputs": []
    },
    {
      "cell_type": "code",
      "source": [
        "# Initialize Faker to generate fake customer names\n",
        "fake = Faker()\n",
        "\n",
        "# Generate dummy data for 10,000 customers\n",
        "num_customers = 10000\n",
        "\n",
        "# Generate customer names\n",
        "customer_names = [fake.name() for _ in range(num_customers)]"
      ],
      "metadata": {
        "id": "A8ZG0FfYWzs8"
      },
      "execution_count": null,
      "outputs": []
    },
    {
      "cell_type": "code",
      "source": [
        "# Generate dummy data for predictor variables\n",
        "data = {\n",
        "    'Customer Name': customer_names,\n",
        "    'Age': np.random.randint(18, 90, num_customers),\n",
        "    'Gender': [random.choice(['Male', 'Female']) for _ in range(num_customers)],\n",
        "    'Marital Status': [random.choice(['Single', 'Married', 'Divorced', 'Widowed']) for _ in range(num_customers)],\n",
        "    'Education Level': [random.choice(['High School', 'Bachelor\\'s Degree', 'Master\\'s Degree', 'PhD']) for _ in range(num_customers)],\n",
        "    'Income Level': [random.randint(20000, 200000) for _ in range(num_customers)],  # Random income between $20,000 and $200,000\n",
        "    'Occupation': [random.choice(['Professional', 'Managerial', 'Technical', 'Administrative', 'Skilled Labor', 'Unskilled Labor']) for _ in range(num_customers)],\n",
        "    'Account Balance': [random.uniform(0, 10000) for _ in range(num_customers)],  # Random account balance\n",
        "    'Length of Time with Bank (Months)': np.random.randint(1, 300, num_customers),\n",
        "    'Transaction Frequency': np.random.randint(0, 100, num_customers),\n",
        "    'Average Transaction Amount': [random.uniform(10, 1000) for _ in range(num_customers)],  # Random transaction amount\n",
        "    'Digital Banking Usage': [random.choice(['Low', 'Medium', 'High']) for _ in range(num_customers)],\n",
        "    'Customer Service Interactions': np.random.randint(0, 20, num_customers),\n",
        "    'Sentiment Score': np.random.uniform(0, 1, num_customers),\n",
        "    'Life Event': [random.choice(['Marriage', 'Divorce', 'Birth', 'Relocation', 'None']) for _ in range(num_customers)],\n",
        "    'Competitor Proximity': [random.choice(['Close', 'Moderate', 'Far']) for _ in range(num_customers)],\n",
        "    'Market Conditions': [random.choice(['Good', 'Fair', 'Poor']) for _ in range(num_customers)],\n",
        "    'Customer Interactions': np.random.randint(0, 50, num_customers),\n",
        "    'Product Usage': [random.choice(['Low', 'Medium', 'High']) for _ in range(num_customers)],\n",
        "    'Customer Satisfaction': np.random.randint(1, 5, num_customers),\n",
        "    'Customer Engagement': np.random.randint(1, 5, num_customers)\n",
        "}"
      ],
      "metadata": {
        "id": "Zoy5S2r4W7nU"
      },
      "execution_count": null,
      "outputs": []
    },
    {
      "cell_type": "code",
      "source": [
        "# Create DataFrame\n",
        "df = pd.DataFrame(data)\n",
        "\n",
        "# Display first few rows of the DataFrame\n",
        "print(df.head())"
      ],
      "metadata": {
        "colab": {
          "base_uri": "https://localhost:8080/"
        },
        "id": "QKaSRgG9XK9l",
        "outputId": "f181dd90-c543-4273-985e-c650bce98fde"
      },
      "execution_count": null,
      "outputs": [
        {
          "output_type": "stream",
          "name": "stdout",
          "text": [
            "       Customer Name  Age  Gender Marital Status    Education Level  \\\n",
            "0     Tammy Marshall   25  Female        Widowed  Bachelor's Degree   \n",
            "1  Patricia Gonzalez   44    Male       Divorced                PhD   \n",
            "2    Patricia Miller   54  Female       Divorced        High School   \n",
            "3      Stephen White   29    Male         Single    Master's Degree   \n",
            "4         Erin Simon   27  Female        Widowed        High School   \n",
            "\n",
            "   Income Level       Occupation  Account Balance  \\\n",
            "0        171130   Administrative      7041.427472   \n",
            "1        162184        Technical      4032.429631   \n",
            "2        135270    Skilled Labor       897.242465   \n",
            "3         68251  Unskilled Labor      6215.933997   \n",
            "4         55962     Professional      6838.060646   \n",
            "\n",
            "   Length of Time with Bank (Months)  Transaction Frequency  ...  \\\n",
            "0                                275                     29  ...   \n",
            "1                                 36                      0  ...   \n",
            "2                                161                     11  ...   \n",
            "3                                219                     88  ...   \n",
            "4                                 42                     81  ...   \n",
            "\n",
            "   Digital Banking Usage Customer Service Interactions  Sentiment Score  \\\n",
            "0                    Low                             8         0.297984   \n",
            "1                   High                            15         0.261897   \n",
            "2                 Medium                             1         0.037882   \n",
            "3                 Medium                             9         0.903614   \n",
            "4                    Low                             8         0.578793   \n",
            "\n",
            "   Life Event Competitor Proximity Market Conditions Customer Interactions  \\\n",
            "0    Marriage             Moderate              Good                    39   \n",
            "1        None             Moderate              Fair                    29   \n",
            "2  Relocation                Close              Good                    16   \n",
            "3     Divorce             Moderate              Good                     6   \n",
            "4  Relocation             Moderate              Good                    18   \n",
            "\n",
            "   Product Usage Customer Satisfaction  Customer Engagement  \n",
            "0         Medium                     3                    3  \n",
            "1         Medium                     2                    2  \n",
            "2           High                     4                    3  \n",
            "3         Medium                     4                    1  \n",
            "4         Medium                     3                    2  \n",
            "\n",
            "[5 rows x 21 columns]\n"
          ]
        }
      ]
    },
    {
      "cell_type": "code",
      "source": [
        "# Save the DataFrame to a CSV file\n",
        "df.to_csv('bank_customers_churn_data.csv', index=False)"
      ],
      "metadata": {
        "id": "O9u0rLGdXUhs"
      },
      "execution_count": null,
      "outputs": []
    }
  ]
}